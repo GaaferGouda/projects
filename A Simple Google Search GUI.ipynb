{
 "cells": [
  {
   "cell_type": "code",
   "execution_count": null,
   "metadata": {},
   "outputs": [],
   "source": []
  },
  {
   "cell_type": "markdown",
   "metadata": {},
   "source": [
    "### Knowledge Explorer: A Simple Google Search GUI\n",
    "\n",
    "This Python script creates a user-friendly GUI application using the `tkinter` library. The application allows users to search for topics on Google directly from the interface. Below is a breakdown of its functionality:\n",
    "\n",
    "1. **Input Field**: Users can enter a search query in the provided text entry box.\n",
    "2. **Search Button**: Clicking the \"Search\" button triggers the search functionality.\n",
    "3. **Dynamic Link Generation**: The application generates a Google search URL based on the user's input.\n",
    "4. **Clickable Search Link**: A clickable link is displayed in the GUI, which opens the search results in the default web browser when clicked.\n",
    "5. **Error Handling**: If no input is provided, the application displays a message prompting the user to enter a topic.\n",
    "\n",
    "This tool is ideal for quickly exploring topics on Google without needing to open a browser manually. The use of `tkinter` ensures a lightweight and responsive interface."
   ]
  },
  {
   "cell_type": "markdown",
   "metadata": {},
   "source": []
  },
  {
   "cell_type": "code",
   "execution_count": null,
   "metadata": {},
   "outputs": [],
   "source": [
    "import tkinter as tk\n",
    "import webbrowser\n",
    "from urllib.parse import quote\n",
    "\n",
    "# Function to search Google\n",
    "def search_google():\n",
    "    query = entry.get().strip()\n",
    "    if not query:\n",
    "        result_label.config(text=\"❌ Please enter a topic to search.\")\n",
    "        return\n",
    "\n",
    "    # Generate Google search URL\n",
    "    search_url = f\"https://www.google.com/search?q={quote(query)}\"\n",
    "    \n",
    "    # Show link in GUI\n",
    "    result_label.config(text=f\"🔗 [Click here to search]({search_url})\", fg=\"blue\", cursor=\"hand2\")\n",
    "    \n",
    "    # Open the link when clicked\n",
    "    result_label.bind(\"<Button-1>\", lambda e: webbrowser.open(search_url))\n",
    "\n",
    "# GUI Setup\n",
    "root = tk.Tk()\n",
    "root.title(\"Knowledge Explorer\")\n",
    "root.geometry(\"400x300\")\n",
    "\n",
    "tk.Label(root, text=\"Enter a topic:\", font=(\"Arial\", 12)).pack(pady=10)\n",
    "\n",
    "entry = tk.Entry(root, width=40, font=(\"Arial\", 12))\n",
    "entry.pack(pady=5)\n",
    "\n",
    "tk.Button(root, text=\"Search\", command=search_google).pack(pady=5)\n",
    "\n",
    "result_label = tk.Label(root, text=\"\", font=(\"Arial\", 10))\n",
    "result_label.pack(pady=10)\n",
    "\n",
    "root.mainloop()\n"
   ]
  },
  {
   "cell_type": "code",
   "execution_count": null,
   "metadata": {},
   "outputs": [],
   "source": []
  }
 ],
 "metadata": {
  "kernelspec": {
   "display_name": "Python 3",
   "language": "python",
   "name": "python3"
  },
  "language_info": {
   "codemirror_mode": {
    "name": "ipython",
    "version": 3
   },
   "file_extension": ".py",
   "mimetype": "text/x-python",
   "name": "python",
   "nbconvert_exporter": "python",
   "pygments_lexer": "ipython3",
   "version": "3.13.1"
  }
 },
 "nbformat": 4,
 "nbformat_minor": 2
}
